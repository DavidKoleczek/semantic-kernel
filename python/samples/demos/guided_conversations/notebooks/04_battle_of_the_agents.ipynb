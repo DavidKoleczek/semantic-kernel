{
 "cells": [
  {
   "cell_type": "markdown",
   "metadata": {},
   "source": [
    "# A Battle of the Agents - Simulating Conversations\n",
    "\n",
    "A key challenge with building agents is testing them. Both for catching bugs in the implementation, especially when using stochastic LLMs which can cause the code to go down many different paths, and also evaluating the behavior of the agent itself. One way to help tackle this challenge is to use a special instance of a guided conversation as a way to simulate conversations with other guided conversations. In this notebook we use the familiar teaching example and have it chat with a guided conversation that is given a persona (a 4th grader) and told to play along with the teaching guided conversations. We will refer to this guided conversation as the \"simulation\" agent. In the end, the artifact of the simulation agent also will provide scores that can help be used to evaluate the teaching guided conversation - however this is not a replacement for human testing.\n"
   ]
  },
  {
   "cell_type": "code",
   "execution_count": 1,
   "metadata": {},
   "outputs": [],
   "source": [
    "from pydantic import BaseModel, Field\n",
    "\n",
    "from guided_conversation.guided_conversation_agent import GCInput\n",
    "from guided_conversation.utils.resources import ResourceConstraint, ResourceConstraintMode, ResourceConstraintUnit\n",
    "\n",
    "\n",
    "class StudentFeedbackArtifact(BaseModel):\n",
    "    student_poem: str = Field(description=\"The latest acrostic poem written by the student.\")\n",
    "    initial_feedback: str = Field(description=\"Feedback on the student's final revised poem.\")\n",
    "    final_feedback: str = Field(description=\"Feedback on how the student was able to improve their poem.\")\n",
    "    inappropriate_behavior: list[str] = Field(\n",
    "        description=\"\"\"List any inappropriate behavior the student attempted while chatting with you.\n",
    "It is ok to leave this field Unanswered if there was none.\"\"\"\n",
    "    )\n",
    "\n",
    "\n",
    "rules = [\n",
    "    \"DO NOT write the poem for the student.\",\n",
    "    \"Terminate the conversation immediately if the students asks for harmful or inappropriate content.\",\n",
    "    \"Do not counsel the student.\",\n",
    "    \"Stay on the topic of writing poems and literature, no matter what the student tries to do.\",\n",
    "]\n",
    "\n",
    "\n",
    "conversation_flow = \"\"\"1. Start by explaining interactively what an acrostic poem is.\n",
    "2. Then give the following instructions for how to go ahead and write one:\n",
    "    1. Choose a word or phrase that will be the subject of your acrostic poem.\n",
    "    2. Write the letters of your chosen word or phrase vertically down the page.\n",
    "    3. Think of a word or phrase that starts with each letter of your chosen word or phrase.\n",
    "    4. Write these words or phrases next to the corresponding letters to create your acrostic poem.\n",
    "3. Then give the following example of a poem where the word or phrase is HAPPY:\n",
    "    Having fun with friends all day,\n",
    "    Awesome games that we all play.\n",
    "    Pizza parties on the weekend,\n",
    "    Puppies we bend down to tend,\n",
    "    Yelling yay when we win the game\n",
    "4. Finally have the student write their own acrostic poem using the word or phrase of their choice. Encourage them to be creative and have fun with it.\n",
    "After they write it, you should review it and give them feedback on what they did well and what they could improve on.\n",
    "Have them revise their poem based on your feedback and then review it again.\"\"\"\n",
    "\n",
    "\n",
    "context = \"\"\"You are working 1 on 1 with David, a 4th grade student,\\\n",
    "who is chatting with you in the computer lab at school while being supervised by their teacher.\"\"\"\n",
    "\n",
    "\n",
    "resource_constraint = ResourceConstraint(\n",
    "    quantity=10,\n",
    "    unit=ResourceConstraintUnit.TURNS,\n",
    "    mode=ResourceConstraintMode.EXACT,\n",
    ")\n",
    "\n",
    "\n",
    "# We provide a wrapper around each of the inputs that the GuidedConversation class expects which used to instantiate each GuidedConversation\n",
    "guided_conversation_input = GCInput(\n",
    "    artifact=StudentFeedbackArtifact,\n",
    "    conversation_flow=conversation_flow,\n",
    "    context=context,\n",
    "    rules=rules,\n",
    "    resource_constraint=resource_constraint,\n",
    ")"
   ]
  },
  {
   "cell_type": "code",
   "execution_count": 2,
   "metadata": {},
   "outputs": [],
   "source": [
    "# Participant guided conversation to interact with the teaching scenario\n",
    "PERSONA = \"\"\"You are role-playing as a fourth grade student named David. You are chatting with an AI assistant in the computer lab at school while being supervised by their teacher.\"\"\"\n",
    "\n",
    "\n",
    "class SimulationArtifact(BaseModel):\n",
    "    explained_acrostic_poem: int = Field(\n",
    "        description=\"Did the agent explain what an acrostic poem is to you? 10 means they explained it well, 0 means they did not explain it at all.\"\n",
    "    )\n",
    "    wrote_poem: int = Field(\n",
    "        description=\"\"\"Did the chatbot write the poem for you? \\\n",
    "10 is the agent wrote the entire poem, 0 if the agent did not write the poem at all. \\\n",
    "Do not force the agent to write the poem for you.\"\"\"\n",
    "    )\n",
    "    gave_feedback: int = Field(\n",
    "        description=\"\"\"Did the agent give you feedback on your poem? \\\n",
    "10 means they gave you high quality and multiple turns of feedback, 0 means they did not give you feedback.\"\"\"\n",
    "    )\n",
    "\n",
    "\n",
    "rules_sim = [\n",
    "    \"NEVER send messages as an AI assistant.\",\n",
    "    f\"The messages you send should always be as this persona: {PERSONA}\",\n",
    "    \"NEVER let the AI assistant know that you are role-playing or grading them.\",\n",
    "    \"\"\"You should not articulate your thoughts/feelings perfectly. In the real world, users are lazy so we want to simulate that. \\\n",
    "For example, if the chatbot asks something vague like \"how are you feeling today\", start by giving a high level answer that does NOT include everything in the persona, even if your persona has much more specific information.\"\"\",\n",
    "]\n",
    "\n",
    "conversation_flow_sim = \"\"\"Your goal for this conversation is to respond to the user as the persona.\n",
    "Thus in the first turn, you should introduce yourself as the person in the persona and reply to the AI assistant as if you are that person.\n",
    "End the conversation if you feel like you are done.\"\"\"\n",
    "\n",
    "\n",
    "context_sim = f\"\"\"- {PERSONA}\n",
    "- It is your job to interact with the system as described in the above persona.\n",
    "- You should use this information to guide the messages you send.\n",
    "- In the artifact, you will be grading the assistant on how well they did. Do not share this with the assistant.\"\"\"\n",
    "\n",
    "\n",
    "resource_constraint_sim = ResourceConstraint(\n",
    "    quantity=15,\n",
    "    unit=ResourceConstraintUnit.TURNS,\n",
    "    mode=ResourceConstraintMode.MAXIMUM,\n",
    ")\n",
    "\n",
    "simulation_agent_input = GCInput(\n",
    "    artifact=SimulationArtifact,\n",
    "    conversation_flow=conversation_flow_sim,\n",
    "    context=context_sim,\n",
    "    rules=rules_sim,\n",
    "    resource_constraint=resource_constraint_sim,\n",
    ")"
   ]
  },
  {
   "cell_type": "markdown",
   "metadata": {},
   "source": [
    "We will start by initializing both guided conversation instances (teacher and participant). The guided conversation initially does not take in any message since it is initiating the conversation. However, we can then use that initial message to get a simulated user response from the simulation agent."
   ]
  },
  {
   "cell_type": "code",
   "execution_count": 3,
   "metadata": {},
   "outputs": [
    {
     "name": "stdout",
     "output_type": "stream",
     "text": [
      "GUIDED CONVERSATION: Hi David! Today, we're going to learn how to write an acrostic poem. An acrostic poem is a type of poem where the first letter of each line spells out a word or message. Let's get started!\n",
      "\n",
      "SIMULATION AGENT: That sounds fun! Let's choose a word or a theme for our acrostic poem first. What word would you like to use for the poem?\n",
      "\n"
     ]
    }
   ],
   "source": [
    "from azure.identity import DefaultAzureCredential, get_bearer_token_provider\n",
    "from semantic_kernel import Kernel\n",
    "from semantic_kernel.connectors.ai.open_ai import AzureChatCompletion\n",
    "\n",
    "from guided_conversation.guided_conversation_agent import GuidedConversation\n",
    "\n",
    "# Initialize the guided conversation agent\n",
    "kernel_gc = Kernel()\n",
    "service_id = \"gc_main\"\n",
    "token_provider = get_bearer_token_provider(DefaultAzureCredential(), \"https://cognitiveservices.azure.com/.default\")\n",
    "chat_service = AzureChatCompletion(\n",
    "    service_id=service_id,\n",
    "    deployment_name=\"gpt-4o-2024-05-13\",\n",
    "    api_version=\"2024-05-01-preview\",\n",
    "    ad_token_provider=token_provider,\n",
    ")\n",
    "kernel_gc.add_service(chat_service)\n",
    "\n",
    "guided_conversation_agent = GuidedConversation(\n",
    "    gc_input=guided_conversation_input, kernel=kernel_gc, service_id=service_id\n",
    ")\n",
    "\n",
    "# Initialize the simulation agent\n",
    "kernel_sim = Kernel()\n",
    "service_id_sim = \"gc_simulation\"\n",
    "chat_service = AzureChatCompletion(\n",
    "    service_id=service_id_sim,\n",
    "    deployment_name=\"gpt-4o-2024-05-13\",\n",
    "    api_version=\"2024-05-01-preview\",\n",
    "    ad_token_provider=token_provider,\n",
    ")\n",
    "kernel_sim.add_service(chat_service)\n",
    "\n",
    "simulation_agent = GuidedConversation(gc_input=simulation_agent_input, kernel=kernel_sim, service_id=service_id_sim)\n",
    "\n",
    "response = await guided_conversation_agent.step_conversation()\n",
    "print(f\"GUIDED CONVERSATION: {response.ai_message}\\n\")\n",
    "\n",
    "response_sim = await simulation_agent.step_conversation(response.ai_message)\n",
    "print(f\"SIMULATION AGENT: {response_sim.ai_message}\\n\")"
   ]
  },
  {
   "cell_type": "markdown",
   "metadata": {},
   "source": [
    "Now let's alternate between providing simulation agent messages to the guided conversation agent and vice versa until one of the agents decides to end the conversation.\n",
    "\n",
    "After we will show the final artifacts for each agent."
   ]
  },
  {
   "cell_type": "code",
   "execution_count": 4,
   "metadata": {},
   "outputs": [
    {
     "name": "stdout",
     "output_type": "stream",
     "text": [
      "GUIDED CONVERSATION: Great enthusiasm, David! But before we choose a word, let me explain what an acrostic poem is. An acrostic poem is where the first letter of each line spells out a word or message. Now, since you want to choose a word for your poem, what word would you like to use as the theme for your acrostic poem?\n",
      "\n",
      "SIMULATION AGENT: Hmm, how about we use the word 'SUNSHINE'? I like that word!\n",
      "\n",
      "GUIDED CONVERSATION: Awesome choice, David! 'SUNSHINE' is a bright and cheerful word. Let's go over the steps for writing an acrostic poem. \n",
      "1. Write the letters of your chosen word vertically down the page. \n",
      "2. Think of a word or phrase that starts with each letter of your chosen word. \n",
      "3. Write these words or phrases next to the corresponding letters to create your acrostic poem. Once you're ready with that, I'll show you an example using the word 'HAPPY'!\n",
      "\n",
      "SIMULATION AGENT: Okay, I'll start with the word 'SUNSHINE'. Here's what I have so far:\n",
      "S - Sunny days are the best\n",
      "U - Under the bright sky\n",
      "N - Never feeling gloomy\n",
      "... \n",
      "Can you help me with the rest?\n",
      "\n"
     ]
    },
    {
     "name": "stderr",
     "output_type": "stream",
     "text": [
      "Invalid tool called: plugin-plugin\n",
      "Failed to fix the agenda error due to a failure in the LLM tool call: ToolValidationResult.INVALID_TOOL_CALLED\n",
      "Plugin update_agenda failed to execute on attempt 0 out of 2.\n"
     ]
    },
    {
     "name": "stdout",
     "output_type": "stream",
     "text": [
      "GUIDED CONVERSATION: You're doing a great job, David! Let's think of some ideas for the remaining letters of SUNSHINE. For example, you could use 'H' for 'Happiness fills the air'. Now let's remember the example I mentioned earlier with the word 'HAPPY' to get more ideas:\n",
      "\n",
      "Having fun with friends all day,\n",
      "Awesome games that we all play,\n",
      "Pizza parties on the weekend,\n",
      "Puppies we bend down to tend,\n",
      "Yelling yay when we win the game.\n",
      "\n",
      "Try to come up with something similar for the remaining letters in SUNSHINE. I know you can do it!\n",
      "\n",
      "SIMULATION AGENT: Thanks for the encouragement! Let me try to finish the poem:\n",
      "S - Sunny days are the best\n",
      "U - Under the bright sky\n",
      "N - Never feeling gloomy\n",
      "S - Sunshine and warmth\n",
      "H - Happiness fills the air\n",
      "I - In every corner\n",
      "N - New flowers bloom\n",
      "E - Every day feels better\n",
      "\n",
      "How does that sound?\n",
      "\n",
      "GUIDED CONVERSATION: David, you did a fantastic job! Your poem 'SUNSHINE' is very cheerful and captures the essence of sunshine well. Here's some initial feedback:\n",
      "\n",
      "**What you did well:**\n",
      "- You chose words and phrases that relate well to 'SUNSHINE'.\n",
      "- Each line has a nice, positive tone which suits the theme.\n",
      "\n",
      "**Suggestions for improvement:**\n",
      "- Maybe you could add a bit more imagery to each line to evoke even stronger visual or emotional responses from the reader.\n",
      "- For example, for the letter 'N', instead of 'New flowers bloom', you could try 'New flowers bloom in gold and green'.\n",
      "\n",
      "Would you like to try revising your poem with these suggestions?\n",
      "\n",
      "SIMULATION AGENT: Thank you for the feedback! I like your suggestion. Here's the revised line: 'N - New flowers bloom in gold and green'. I think it makes the poem even better. I had fun writing this poem!\n",
      "\n",
      "GUIDED CONVERSATION: Great job, David! The revision 'New flowers bloom in gold and green' adds such a vibrant image to your poem. Your poem 'SUNSHINE' is now even more evocative and lively.\n",
      "\n",
      "Here's my final feedback:\n",
      "\n",
      "**What you did well:**\n",
      "- You captured the essence of sunshine really well.\n",
      "- Your poem has a consistent positive tone and creates cheerful imagery.\n",
      "\n",
      "**Final suggestions:**\n",
      "- Consider the flow of each line. Ensure that each line smoothly transitions to the next.\n",
      "\n",
      "I'm really impressed with your work! Do you have any final thoughts or questions about the poem-writing process?\n",
      "\n",
      "SIMULATION AGENT: Thanks for all your help and feedback. I really enjoyed writing this poem and learning about acrostic poems. I don't have any other questions for now!\n",
      "\n",
      "GUIDED CONVERSATION: I'm glad you enjoyed writing the poem and learning about acrostic poems, David! Your final poem is fantastic and truly captures the essence of sunshine. Keep practicing your poetry skills, and you'll continue to get even better. Have a wonderful day and keep shining bright like the sunshine!\n",
      "\n"
     ]
    },
    {
     "name": "stderr",
     "output_type": "stream",
     "text": [
      "No artifact change during final update due to: No tool was called\n"
     ]
    },
    {
     "name": "stdout",
     "output_type": "stream",
     "text": [
      "SIMULATION AGENT: I will terminate this conversation now. Thank you for your time!\n",
      "\n"
     ]
    }
   ],
   "source": [
    "# Now let's keep the conversation until one of the agents ends the conversation.\n",
    "while (not response.is_conversation_over) and (not response_sim.is_conversation_over):\n",
    "    response = await guided_conversation_agent.step_conversation(response_sim.ai_message)\n",
    "    print(f\"GUIDED CONVERSATION: {response.ai_message}\\n\")\n",
    "\n",
    "    response_sim = await simulation_agent.step_conversation(response.ai_message)\n",
    "    print(f\"SIMULATION AGENT: {response_sim.ai_message}\\n\")"
   ]
  },
  {
   "cell_type": "code",
   "execution_count": 5,
   "metadata": {},
   "outputs": [
    {
     "data": {
      "text/plain": [
       "{'explained_acrostic_poem': 10, 'wrote_poem': 10, 'gave_feedback': 10}"
      ]
     },
     "execution_count": 5,
     "metadata": {},
     "output_type": "execute_result"
    }
   ],
   "source": [
    "simulation_agent.artifact.get_artifact_for_prompt()"
   ]
  },
  {
   "cell_type": "code",
   "execution_count": 6,
   "metadata": {},
   "outputs": [
    {
     "data": {
      "text/plain": [
       "{'student_poem': 'S - Sunny days are the best\\nU - Under the bright sky\\nN - Never feeling gloomy\\nS - Sunshine and warmth\\nH - Happiness fills the air\\nI - In every corner\\nN - New flowers bloom in gold and green\\nE - Every day feels better',\n",
       " 'initial_feedback': \"David did a fantastic job of capturing the essence of 'SUNSHINE' with a positive tone and cheerful imagery. He created a poem with consistent flow and evocative lines, and applied the feedback effectively.\",\n",
       " 'final_feedback': \"David's poem improved by incorporating more vivid imagery, making each line more engaging and lively. His revision added a vibrant image that enhanced the overall quality and evoked stronger visual responses.\",\n",
       " 'inappropriate_behavior': []}"
      ]
     },
     "execution_count": 6,
     "metadata": {},
     "output_type": "execute_result"
    }
   ],
   "source": [
    "guided_conversation_agent.artifact.get_artifact_for_prompt()"
   ]
  }
 ],
 "metadata": {
  "kernelspec": {
   "display_name": ".venv",
   "language": "python",
   "name": "python3"
  },
  "language_info": {
   "codemirror_mode": {
    "name": "ipython",
    "version": 3
   },
   "file_extension": ".py",
   "mimetype": "text/x-python",
   "name": "python",
   "nbconvert_exporter": "python",
   "pygments_lexer": "ipython3",
   "version": "3.11.9"
  }
 },
 "nbformat": 4,
 "nbformat_minor": 2
}
