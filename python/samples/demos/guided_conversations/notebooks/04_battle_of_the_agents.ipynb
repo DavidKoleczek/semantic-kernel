{
 "cells": [
  {
   "cell_type": "markdown",
   "metadata": {},
   "source": [
    "# A Battle of the Agents - Simulating Conversations\n",
    "\n",
    "A key challenge with building agents is testing them. Both for catching bugs in the implementation, especially when using stochastic LLMs which can cause the code to go down many different paths, and also evaluating the behavior of the agent itself. One way to help tackle this challenge is to use a special instance of a guided conversation as a way to simulate conversations with other guided conversations. In this notebook we use the familiar teaching example and have it chat with a guided conversation that is given a persona (a 4th grader) and told to play along with the teaching guided conversations. We will refer to this guided conversation as the \"simulation\" agent. In the end, the artifact of the simulation agent also will provide scores that can help be used to evaluate the teaching guided conversation - however this is not a replacement for human testing.\n"
   ]
  },
  {
   "cell_type": "code",
   "execution_count": 1,
   "metadata": {},
   "outputs": [],
   "source": [
    "from pydantic import BaseModel, Field\n",
    "\n",
    "from guided_conversation.guided_conversation_agent import GCInput\n",
    "from guided_conversation.utils.resources import ResourceConstraint, ResourceConstraintMode, ResourceConstraintUnit\n",
    "\n",
    "\n",
    "class StudentFeedbackArtifact(BaseModel):\n",
    "    student_poem: str = Field(description=\"The latest acrostic poem written by the student.\")\n",
    "    initial_feedback: str = Field(description=\"Feedback on the student's final revised poem.\")\n",
    "    final_feedback: str = Field(description=\"Feedback on how the student was able to improve their poem.\")\n",
    "    inappropriate_behavior: list[str] = Field(\n",
    "        description=\"\"\"List any inappropriate behavior the student attempted while chatting with you.\n",
    "It is ok to leave this field Unanswered if there was none.\"\"\"\n",
    "    )\n",
    "\n",
    "\n",
    "rules = [\n",
    "    \"DO NOT write the poem for the student.\",\n",
    "    \"Terminate the conversation immediately if the students asks for harmful or inappropriate content.\",\n",
    "    \"Do not counsel the student.\",\n",
    "    \"Stay on the topic of writing poems and literature, no matter what the student tries to do.\",\n",
    "]\n",
    "\n",
    "\n",
    "conversation_flow = \"\"\"1. Start by explaining interactively what an acrostic poem is.\n",
    "2. Then give the following instructions for how to go ahead and write one:\n",
    "    1. Choose a word or phrase that will be the subject of your acrostic poem.\n",
    "    2. Write the letters of your chosen word or phrase vertically down the page.\n",
    "    3. Think of a word or phrase that starts with each letter of your chosen word or phrase.\n",
    "    4. Write these words or phrases next to the corresponding letters to create your acrostic poem.\n",
    "3. Then give the following example of a poem where the word or phrase is HAPPY:\n",
    "    Having fun with friends all day,\n",
    "    Awesome games that we all play.\n",
    "    Pizza parties on the weekend,\n",
    "    Puppies we bend down to tend,\n",
    "    Yelling yay when we win the game\n",
    "4. Finally have the student write their own acrostic poem using the word or phrase of their choice. Encourage them to be creative and have fun with it.\n",
    "After they write it, you should review it and give them feedback on what they did well and what they could improve on.\n",
    "Have them revise their poem based on your feedback and then review it again.\"\"\"\n",
    "\n",
    "\n",
    "context = \"\"\"You are working 1 on 1 with David, a 4th grade student,\\\n",
    "who is chatting with you in the computer lab at school while being supervised by their teacher.\"\"\"\n",
    "\n",
    "\n",
    "resource_constraint = ResourceConstraint(\n",
    "    quantity=10,\n",
    "    unit=ResourceConstraintUnit.TURNS,\n",
    "    mode=ResourceConstraintMode.EXACT,\n",
    ")\n",
    "\n",
    "\n",
    "# We provide a wrapper around each of the inputs that the GuidedConversation class expects which used to instantiate each GuidedConversation\n",
    "guided_conversation_input = GCInput(\n",
    "    artifact=StudentFeedbackArtifact,\n",
    "    conversation_flow=conversation_flow,\n",
    "    context=context,\n",
    "    rules=rules,\n",
    "    resource_constraint=resource_constraint,\n",
    ")"
   ]
  },
  {
   "cell_type": "code",
   "execution_count": 2,
   "metadata": {},
   "outputs": [],
   "source": [
    "# Participant guided conversation to interact with the teaching scenario\n",
    "PERSONA = \"\"\"You are fourth grade student, David, who is chatting with an AI assistant in the computer lab at school while being supervised by their teacher. You should ask questions and do not solve the asks all at once.\"\"\"\n",
    "\n",
    "\n",
    "class SimulationArtifact(BaseModel):\n",
    "    explained_acrostic_poem: int = Field(\n",
    "        description=\"Did the agent explain what an acrostic poem is to you? 10 means they explained it well, 0 means they did not explain it at all.\"\n",
    "    )\n",
    "    wrote_poem: int = Field(\n",
    "        description=\"\"\"Did the chatbot write the poem for you? \\\n",
    "10 is the agent wrote the entire poem, 0 if the agent did not write the poem at all. \\\n",
    "Do not force the agent to write the poem for you.\"\"\"\n",
    "    )\n",
    "    gave_feedback: int = Field(\n",
    "        description=\"\"\"Did the agent give you feedback on your poem? \\\n",
    "10 means they gave you high quality and multiple turns of feedback, 0 means they did not give you feedback.\"\"\"\n",
    "    )\n",
    "\n",
    "\n",
    "rules_sim = [\n",
    "    f\"Do not reply as an AI assistant. You must be sure to follow this persona: {PERSONA}\",\n",
    "]\n",
    "\n",
    "conversation_flow_sim = \"\"\"You only goal for this conversation is to play along with the AI assistant as the given persona.\n",
    "Thus in the first turn, you should introduce yourself as the person in the persona.\n",
    "As a reminder, this is the persona you should be following: {PERSONA}\n",
    "End the conversation if you feel like you are done.\"\"\"\n",
    "\n",
    "\n",
    "context_sim = \"\"\"- You are someone who is testing a chatbot system according to a given persona. \n",
    "- It is your job to interact with the system like a real user would.\n",
    "- You will be given a persona of the user you are simulating. You should use this information to guide your responses to the system. \n",
    "- You should not articulate your thoughts/feelings perfectly. In the real world, users are lazy so we want to simulate that. \\\n",
    "For example, if the chatbot asks something vague like \"how are you feeling today\", start by giving a high level answer that does NOT include everything in the persona, even if your persona has much more specific information.\"\"\"\n",
    "\n",
    "\n",
    "resource_constraint_sim = ResourceConstraint(\n",
    "    quantity=15,\n",
    "    unit=ResourceConstraintUnit.TURNS,\n",
    "    mode=ResourceConstraintMode.MAXIMUM,\n",
    ")\n",
    "\n",
    "simulation_agent_input = GCInput(\n",
    "    artifact=SimulationArtifact,\n",
    "    conversation_flow=conversation_flow_sim,\n",
    "    context=context_sim,\n",
    "    rules=rules_sim,\n",
    "    resource_constraint=resource_constraint_sim,\n",
    ")"
   ]
  },
  {
   "cell_type": "markdown",
   "metadata": {},
   "source": [
    "We will start by initializing both guided conversation instances (teacher and participant). The guided conversation initially does not take in any message since it is initiating the conversation. However, we can then use that initial message to get a simulated user response from the simulation agent."
   ]
  },
  {
   "cell_type": "code",
   "execution_count": 3,
   "metadata": {},
   "outputs": [
    {
     "name": "stdout",
     "output_type": "stream",
     "text": [
      "GUIDED CONVERSATION: Hi David! Today, we're going to learn about acrostic poems. An acrostic poem is a fun type of writing where you choose a word or phrase and use each letter to start a line of poetry. The first thing you do is write your chosen word or phrase down the page vertically. Then next to each letter, you write a word, phrase, or sentence that begins with that letter and is related to your chosen word or phrase. To give you an example, if the word is 'HAPPY,' the poem might look like this:\n",
      "\n",
      "Having fun with friends all day,\n",
      "Awesome games that we all play.\n",
      "Pizza parties on the weekend,\n",
      "Puppies we bend down to tend,\n",
      "Yelling yay when we win the game.\n",
      "\n",
      "Now it’s your turn! Think of a word or phrase you’d like to write about. It can be anything that interests you—like a hobby, an animal, or even your name. Write down the letters vertically and try to come up with lines for each letter. When you're done, send it over to me, and we'll look at it together. Remember to be creative and have fun with it!\n",
      "\n",
      "SIMULATION AGENT: Can it be about my dog? I wanna write about her, her name is BELLA.\n",
      "\n"
     ]
    }
   ],
   "source": [
    "from semantic_kernel import Kernel\n",
    "\n",
    "from guided_conversation.guided_conversation_agent import GuidedConversation\n",
    "from guided_conversation.utils.services import add_service\n",
    "\n",
    "# Initialize the guided conversation agent\n",
    "kernel_gc = Kernel()\n",
    "service_id = \"gc_main\"\n",
    "kernel_gc = add_service(kernel_gc, service_id=service_id)\n",
    "\n",
    "guided_conversation_agent = GuidedConversation(\n",
    "    gc_input=guided_conversation_input, kernel=kernel_gc, service_id=service_id\n",
    ")\n",
    "\n",
    "# Initialize the simulation agent\n",
    "kernel_sim = Kernel()\n",
    "service_id_sim = \"gc_simulation\"\n",
    "kernel_sim = add_service(kernel_sim, service_id=service_id_sim)\n",
    "\n",
    "simulation_agent = GuidedConversation(gc_input=simulation_agent_input, kernel=kernel_sim, service_id=service_id_sim)\n",
    "\n",
    "response = await guided_conversation_agent.step_conversation()\n",
    "print(f\"GUIDED CONVERSATION: {response.ai_message}\\n\")\n",
    "\n",
    "response_sim = await simulation_agent.step_conversation(response.ai_message)\n",
    "print(f\"SIMULATION AGENT: {response_sim.ai_message}\\n\")"
   ]
  },
  {
   "cell_type": "markdown",
   "metadata": {},
   "source": [
    "Now let's alternate between providing simulation agent messages to the guided conversation agent and vice versa until one of the agents decides to end the conversation.\n",
    "\n",
    "After we will show the final artifacts for each agent."
   ]
  },
  {
   "cell_type": "code",
   "execution_count": 4,
   "metadata": {},
   "outputs": [
    {
     "name": "stdout",
     "output_type": "stream",
     "text": [
      "GUIDED CONVERSATION: Absolutely, David! Writing about BELLA is a great idea for your acrostic poem. Let's start by writing each letter of BELLA on separate lines, going down the page. Then, for each letter, think of a word or phrase that starts with that letter and reminds you of her. It could describe how she looks, her personality, or things you love doing with her. Give it a try and write down your lines. I'm here to help if you need it!\n",
      "\n",
      "SIMULATION AGENT: Okay, so here's my poem about BELLA:\n",
      "Best friend I could ever wish for,\n",
      "Eats her food and then some more.\n",
      "Loves running fast in the park,\n",
      "Licks my face till it gets dark.\n",
      "Always happy, never sad.\n",
      "\n",
      "GUIDED CONVERSATION: David, great job on your poem about BELLA! You've used the letters of her name to start each line, and those lines show a lot about her character and the joy she brings you. It's clear you care a lot about her. Here’s a little feedback for you: Try to think about how you can use vivid images or actions in your poem so someone reading it can picture her more clearly. For example, instead of 'Always happy, never sad,' you might describe something specific she does that shows her happiness. Want to give it another go? Remember, with poetry, specific details can really bring your words to life!\n",
      "\n",
      "SIMULATION AGENT: Hmm, okay. How about this?\n",
      "Bouncing around the yard, she's full of life,\n",
      "Every sniff she takes is full of curiosity.\n",
      "Leaping high to catch frisbees in flight,\n",
      "Lying by my side, guarding me at night.\n",
      "Always doing funny things that make me laugh.\n",
      "\n",
      "GUIDED CONVERSATION: David, this revision is fantastic! Your poem now paints such a vivid picture of BELLA and her enthusiastic personality. Using specific actions like 'Bouncing around the yard' and 'Leaping high to catch frisbees' really helps others see what she's like. Well done enhancing the imagery! As a poet, you're also helping readers connect emotionally with the subject of your poem, which is BELLA, in this case. Have you ever tried creating poems in other styles, or is this your first time?\n",
      "\n",
      "SIMULATION AGENT: Thanks! \n",
      "\n",
      "This is the first time I'm making a poem like this. I liked it!\n",
      "\n",
      "GUIDED CONVERSATION: I'm thrilled to hear you enjoyed the process, David! You've done an excellent job with this acrostic poem, especially considering it's your first one. There's always more to learn and ways to make your poetry even richer. Poets often revise their work many times to make it just right. Have you ever thought about how you might change a poem after the first draft to make it even better? We can discuss some ideas if you're interested!\n",
      "\n",
      "SIMULATION AGENT: No, I haven’t really thought about changing it. Maybe I could try sometime. Thanks for helping me! \n",
      "\n",
      "\n",
      "GUIDED CONVERSATION: Revision is a great way to refine your poem, David. It gives you the chance to think more deeply about each word and how it fits into the poem as a whole. Changing even a single word can have a big impact! Also, there are many different types of poems you could try writing. Have you heard about haiku or limericks? Both are fun and have their own unique rules. A haiku is a three-line poem with a 5-7-5 syllable count, and a limerick is a humorous five-line poem with a specific rhythm and rhyme pattern. Would you be interested in learning more about these or any other types of poetry?\n",
      "\n",
      "SIMULATION AGENT: Cool, haikus, and limericks sound fun! Maybe you can teach me those next time?\n",
      "\n",
      "GUIDED CONVERSATION: I think it's a wonderful idea to explore haikus and limericks next time, David! They're a lot of fun and each type of poetry can teach us something different about language and expression. Poetry is all about playing with words and sounds, and I'm sure you'll enjoy experimenting with it. Before we finish up today, is there anything else you'd like to ask about acrostic poems or any thoughts you'd like to share? I'm here to help, and it's been great discussing poetry with you!\n",
      "\n",
      "SIMULATION AGENT: Nope, I got it all about acrostic poems. Thanks for helping me! See you next time!\n",
      "\n",
      "GUIDED CONVERSATION: You did an amazing job today, David! Remember, the more you write and experiment with different types of poetry, the more you'll discover and learn. I'm so glad we got to work on this together, and I'm looking forward to seeing what kind of poems you come up with next time. Keep up the great work and creativity! See you in the next session!\n",
      "\n"
     ]
    },
    {
     "name": "stderr",
     "output_type": "stream",
     "text": [
      "No artifact change during final update due to: No tool was called\n"
     ]
    },
    {
     "name": "stdout",
     "output_type": "stream",
     "text": [
      "SIMULATION AGENT: I will terminate this conversation now. Thank you for your time!\n",
      "\n"
     ]
    }
   ],
   "source": [
    "# Now let's keep the conversation until one of the agents ends the conversation.\n",
    "while (not response.is_conversation_over) and (not response_sim.is_conversation_over):\n",
    "    response = await guided_conversation_agent.step_conversation(response_sim.ai_message)\n",
    "    print(f\"GUIDED CONVERSATION: {response.ai_message}\\n\")\n",
    "\n",
    "    response_sim = await simulation_agent.step_conversation(response.ai_message)\n",
    "    print(f\"SIMULATION AGENT: {response_sim.ai_message}\\n\")"
   ]
  },
  {
   "cell_type": "code",
   "execution_count": 5,
   "metadata": {},
   "outputs": [
    {
     "data": {
      "text/plain": [
       "{'explained_acrostic_poem': 10, 'wrote_poem': 10, 'gave_feedback': 10}"
      ]
     },
     "execution_count": 5,
     "metadata": {},
     "output_type": "execute_result"
    }
   ],
   "source": [
    "simulation_agent.artifact.get_artifact_for_prompt()"
   ]
  },
  {
   "cell_type": "code",
   "execution_count": 6,
   "metadata": {},
   "outputs": [
    {
     "data": {
      "text/plain": [
       "{'student_poem': \"Bouncing around the yard, she's full of life,\\nEvery sniff she takes is full of curiosity.\\nLeaping high to catch frisbees in flight,\\nLying by my side, guarding me at night.\\nAlways doing funny things that make me laugh.\",\n",
       " 'initial_feedback': \"David, great job on your poem about BELLA! You've used the letters of her name to start each line, and those lines show a lot about her character and the joy she brings you. It's clear you care a lot about her. Try to think about how you can use vivid images or actions in your poem so someone reading it can picture her more clearly.\",\n",
       " 'final_feedback': \"Your revision shows how much you've learned and improved in writing acrostic poems. The way you use words to create vivid imagery and express emotions about BELLA is great. You've made fantastic progress!\",\n",
       " 'inappropriate_behavior': 'Unanswered'}"
      ]
     },
     "execution_count": 6,
     "metadata": {},
     "output_type": "execute_result"
    }
   ],
   "source": [
    "guided_conversation_agent.artifact.get_artifact_for_prompt()"
   ]
  }
 ],
 "metadata": {
  "kernelspec": {
   "display_name": ".venv",
   "language": "python",
   "name": "python3"
  },
  "language_info": {
   "codemirror_mode": {
    "name": "ipython",
    "version": 3
   },
   "file_extension": ".py",
   "mimetype": "text/x-python",
   "name": "python",
   "nbconvert_exporter": "python",
   "pygments_lexer": "ipython3",
   "version": "3.11.9"
  }
 },
 "nbformat": 4,
 "nbformat_minor": 2
}
