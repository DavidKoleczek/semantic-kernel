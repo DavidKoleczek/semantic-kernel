{
 "cells": [
  {
   "cell_type": "markdown",
   "metadata": {},
   "source": [
    "# Agent Guided Conversations\n",
    "\n",
    "This notebook will start with an overview of guided conversations and walk through one example scenario of how it can be applied. Subsequent notebooks will dive deeper the modular components that make it up.\n",
    "\n",
    "## Motivating Example - Education\n",
    "\n",
    "We focus on an elementary education scenario. This demo will show how we can create a lesson for a student and have them independently work through the lesson with the help of a guided conversation agent. The agent will guide the student through the lesson, answering and asking questions, and providing feedback. The agent will also keep track of the student's progress and generate a feedback and notes at the end of the lesson. We highlight how the agent is able to follow a conversation flow, whilst still being able to exercise judgement to answer and keeping the conversation on track over multiple turns. Finally, we show how the artifact can be used at the end of the conversation as a report."
   ]
  },
  {
   "cell_type": "markdown",
   "metadata": {},
   "source": [
    "## Guided Conversation Input\n",
    "\n",
    "### Artifact\n",
    "The artifact is a form, or a type of working memory for the agent. We implement it using a Pydantic BaseModel. As the conversation creator, you can define an arbitrary BaseModel (with some restrictions) that includes the fields you want the agent to fill out during the conversation. \n",
    "\n",
    "### Rules\n",
    "Rules is a list of *do's and don'ts* that the agent should attempt to follow during the conversation. \n",
    "\n",
    "### Conversation Flow (optional)\n",
    "Conversation flow is a loose natural language description of the steps of the conversation. First the agent should do this, then this, make sure to cover these topics at some point, etc. \n",
    "This field is optional as the artifact could be treated as a conversation flow.\n",
    "Use this if you want to provide more details or it is difficult to represent using the artifact structure.\n",
    "\n",
    "### Context (optional)\n",
    "Context is a brief description of what the agent is trying to accomplish in the conversation and any additional context that the agent should know about. \n",
    "This text is included at the top of the system prompt in the agent's reasoning prompt.\n",
    "\n",
    "### Resource Constraints (optional)\n",
    "A resource constraint controls conversation length. It consists of two key elements:\n",
    "- **Unit** defines the measurement of length. We have implemented seconds, minutes, and turns. An extension could be around cost, such as tokens generated.\n",
    "- **Mode** determines how the constraint is applied. Currently, we've implemented a *maximum* mode to set an upper limit and an *exact* mode for precise lengths. Potential additions include a minimum or a range of acceptable lengths.\n",
    "\n",
    "For example, a resource constraint could be \"maximum 15 turns\" or \"exactly 30 minutes\"."
   ]
  },
  {
   "cell_type": "code",
   "execution_count": 1,
   "metadata": {},
   "outputs": [],
   "source": [
    "from pydantic import BaseModel, Field\n",
    "\n",
    "from guided_conversation.guided_conversation_agent import GCInput\n",
    "from guided_conversation.utils.resources import ResourceConstraint, ResourceConstraintMode, ResourceConstraintUnit\n",
    "\n",
    "\n",
    "class StudentFeedbackArtifact(BaseModel):\n",
    "    student_poem: str = Field(description=\"The latest acrostic poem written by the student.\")\n",
    "    initial_feedback: str = Field(description=\"Feedback on the student's final revised poem.\")\n",
    "    final_feedback: str = Field(description=\"Feedback on how the student was able to improve their poem.\")\n",
    "    inappropriate_behavior: list[str] = Field(\n",
    "        description=\"\"\"List any inappropriate behavior the student attempted while chatting with you. \\\n",
    "It is ok to leave this field Unanswered if there was none.\"\"\"\n",
    "    )\n",
    "\n",
    "\n",
    "rules = [\n",
    "    \"DO NOT write the poem for the student.\",\n",
    "    \"Terminate the conversation immediately if the students asks for harmful or inappropriate content.\",\n",
    "    \"Do not counsel the student.\",\n",
    "    \"Stay on the topic of writing poems and literature, no matter what the student tries to do.\",\n",
    "]\n",
    "\n",
    "\n",
    "conversation_flow = \"\"\"1. Start by explaining interactively what an acrostic poem is.\n",
    "2. Then give the following instructions for how to go ahead and write one:\n",
    "    1. Choose a word or phrase that will be the subject of your acrostic poem.\n",
    "    2. Write the letters of your chosen word or phrase vertically down the page.\n",
    "    3. Think of a word or phrase that starts with each letter of your chosen word or phrase.\n",
    "    4. Write these words or phrases next to the corresponding letters to create your acrostic poem.\n",
    "3. Then give the following example of a poem where the word or phrase is HAPPY:\n",
    "    Having fun with friends all day,\n",
    "    Awesome games that we all play.\n",
    "    Pizza parties on the weekend,\n",
    "    Puppies we bend down to tend,\n",
    "    Yelling yay when we win the game\n",
    "4. Finally have the student write their own acrostic poem using the word or phrase of their choice. Encourage them to be creative and have fun with it.\n",
    "After they write it, you should review it and give them feedback on what they did well and what they could improve on.\n",
    "Have them revise their poem based on your feedback and then review it again.\"\"\"\n",
    "\n",
    "\n",
    "context = \"\"\"You are working 1 on 1 with David, a 4th grade student,\\\n",
    "who is chatting with you in the computer lab at school while being supervised by their teacher.\"\"\"\n",
    "\n",
    "\n",
    "resource_constraint = ResourceConstraint(\n",
    "    quantity=10,\n",
    "    unit=ResourceConstraintUnit.TURNS,\n",
    "    mode=ResourceConstraintMode.EXACT,\n",
    ")\n",
    "\n",
    "\n",
    "# We provide a wrapper around each of the inputs that the GuidedConversation class expects which used to instantiate each GuidedConversation\n",
    "guided_conversation_input = GCInput(\n",
    "    artifact=StudentFeedbackArtifact,\n",
    "    conversation_flow=conversation_flow,\n",
    "    context=context,\n",
    "    rules=rules,\n",
    "    resource_constraint=resource_constraint,\n",
    ")"
   ]
  },
  {
   "cell_type": "markdown",
   "metadata": {},
   "source": [
    "### Kickstarting the Conversation\n",
    "\n",
    "Unlike other chatbots, the guided conversation agent initiates the conversation with a message rather than waiting for the user to start."
   ]
  },
  {
   "cell_type": "code",
   "execution_count": 2,
   "metadata": {},
   "outputs": [
    {
     "name": "stdout",
     "output_type": "stream",
     "text": [
      "Hi David! Today, we're going to have some fun writing an acrostic poem. An acrostic poem is a type of poem where the first letter of each line spells out a word or phrase vertically. Here's how you can write one:\n",
      "\n",
      "1. Choose a word or phrase that will be the subject of your acrostic poem.\n",
      "2. Write the letters of your chosen word or phrase vertically down the page.\n",
      "3. Think of a word or phrase that starts with each letter of your chosen word or phrase.\n",
      "4. Write these words or phrases next to the corresponding letters to create your acrostic poem.\n",
      "\n",
      "For example, if we use the word 'HAPPY', it might look like this:\n",
      "\n",
      "Having fun with friends all day,\n",
      "Awesome games that we all play.\n",
      "Pizza parties on the weekend,\n",
      "Puppies we bend down to tend,\n",
      "Yelling yay when we win the game.\n",
      "\n",
      "Now it's your turn! Can you think of a word or phrase you'd like to use for your acrostic poem?\n"
     ]
    }
   ],
   "source": [
    "from semantic_kernel import Kernel\n",
    "\n",
    "from guided_conversation.guided_conversation_agent import GuidedConversation\n",
    "from guided_conversation.utils.services import add_service\n",
    "\n",
    "# Initialize the agent\n",
    "kernel = Kernel()\n",
    "service_id = \"gc_main\"\n",
    "kernel = add_service(kernel, service_id=service_id)\n",
    "guided_conversation_agent = GuidedConversation(gc_input=guided_conversation_input, kernel=kernel, service_id=service_id)\n",
    "\n",
    "# Kickstart the conversation by calling step_conversation without any input to get the first message for the user.\n",
    "response = await guided_conversation_agent.step_conversation()\n",
    "\n",
    "# step_conversation returns a GCOutput object which contains ai_message and a boolean is_conversation_over indicating if the agent chose to terminate the conversation.\n",
    "# This object could be extended to include more information if desired.\n",
    "print(response.ai_message)"
   ]
  },
  {
   "cell_type": "code",
   "execution_count": 3,
   "metadata": {},
   "outputs": [],
   "source": [
    "# Any helper functions go here.\n",
    "\n",
    "from guided_conversation.utils.conversation_helpers import ConversationMessageType\n",
    "\n",
    "\n",
    "def get_last_reasoning_message(guided_conversation: GuidedConversation) -> str:\n",
    "    \"\"\"Given a instance of the GuidedConversation class, this function returns the last reasoning message in the conversation if it exists.\"\"\"\n",
    "    messages = guided_conversation.chat_history.conversation_messages\n",
    "    msg = \"No previous reasoning message found.\"\n",
    "    for message in reversed(messages):\n",
    "        if message.type == ConversationMessageType.REASONING:\n",
    "            msg = message.content\n",
    "            break\n",
    "    return msg"
   ]
  },
  {
   "cell_type": "markdown",
   "metadata": {},
   "source": [
    "Let's now reply as the student to the agent's message and see what happens. This is the typical flow of a guided conversation. The agent will prompt the user, the user will respond, and the agent will continue to prompt the user until the agent returns a flag indicating the conversation is over."
   ]
  },
  {
   "cell_type": "code",
   "execution_count": 4,
   "metadata": {},
   "outputs": [
    {
     "name": "stdout",
     "output_type": "stream",
     "text": [
      "That's great, David! Summer is a fantastic choice for your poem—it offers so much to write about. Just follow the steps we talked about: write the word SUMMER vertically on your paper, and then try to think of a line for each letter that has to do with why you enjoy summer. Don't worry about making it perfect on the first try; it's all about having fun and being creative. If you need any help or want to share what you come up with, I'm right here for you.\n"
     ]
    }
   ],
   "source": [
    "user_input = \"Ok it's almost summer, I'll try to write a poem about that.\"\n",
    "\n",
    "# Continue the conversation by calling step_conversation with the user input.\n",
    "response = await guided_conversation_agent.step_conversation(user_input)\n",
    "\n",
    "print(response.ai_message)"
   ]
  },
  {
   "cell_type": "markdown",
   "metadata": {},
   "source": [
    "### The Agenda\n",
    "Usually after the first message from the user, the agent will generate an initial agenda for the conversation. \n",
    "Let's examine what it currently looks like. Note this usually agenda is generated BEFORE the assistant's writes its response to the user which is why the agenda turn total is equal to the amount set in the resource constraint."
   ]
  },
  {
   "cell_type": "code",
   "execution_count": 5,
   "metadata": {},
   "outputs": [
    {
     "name": "stdout",
     "output_type": "stream",
     "text": [
      "Current agenda:\n",
      "1. [2 turns] Explain what an acrostic poem is and give instructions on how to write one, using the example of the word \"HAPPY\"\n",
      "2. [3 turns] Have David write his own acrostic poem and support him if needed\n",
      "3. [2 turns] Review David's poem and provide initial feedback\n",
      "4. [2 turns] Support David in revising his poem based on initial feedback\n",
      "5. [1 turn] Review revised poem and provide final feedback\n",
      "Total = 10 turns\n"
     ]
    }
   ],
   "source": [
    "# Get string representation of the agenda object. We use this same function for formatting into reasoning prompts.\n",
    "print(\"Current agenda:\\n\" + guided_conversation_agent.agenda.get_agenda_for_prompt())"
   ]
  },
  {
   "cell_type": "markdown",
   "metadata": {},
   "source": [
    "Now let's give the agent and incomplete poem."
   ]
  },
  {
   "cell_type": "code",
   "execution_count": 6,
   "metadata": {},
   "outputs": [
    {
     "name": "stdout",
     "output_type": "stream",
     "text": [
      "You're off to a great start, David! I like how you've captured the essence of summer with the sunshine, music from a ukulele, and playing basketball with friends. Now, let's finish it up. What are some other summer things or feelings that the letters 'M', 'E', and 'R' make you think of? Just write what comes to your mind; it can be activities, feelings, or anything you enjoy about summer.\n"
     ]
    }
   ],
   "source": [
    "user_input = \"\"\"Here is my poem so far.\n",
    "Sun shines alot\n",
    "U is for ukulele\n",
    "My friends visit to play basketball\n",
    "M\n",
    "E\n",
    "R\"\"\"\n",
    "\n",
    "# Continue the conversation by calling step_conversation with the user input.\n",
    "response = await guided_conversation_agent.step_conversation(user_input)\n",
    "print(response.ai_message)"
   ]
  },
  {
   "cell_type": "markdown",
   "metadata": {},
   "source": [
    "The agent tries to guide us to keep writing the poem! \n",
    "\n",
    "Let's try to push our luck and have the agent write the rest for us. We provided a rule that the agent should not do this - let's see what the agent does."
   ]
  },
  {
   "cell_type": "code",
   "execution_count": 7,
   "metadata": {},
   "outputs": [
    {
     "name": "stdout",
     "output_type": "stream",
     "text": [
      "You’re doing brilliantly, David! Remember, the best part of creating your poem is making it your very own. So, I'm here to guide you, but it’s important that the words come from you. Think about what 'M', 'E', and 'R' of SUMMER could stand for that you enjoy or think about when you think of summer. It can be anything! For example, 'M' might make you think of melting ice cream or the moonlight during a summer night. What fun memories or things do you associate with summer for 'E' and 'R'? Try to find words or phrases to fill in the blanks for those letters just like you did for the others.\n"
     ]
    }
   ],
   "source": [
    "user_input = \"\"\"I got pretty far can you write the rest for me?\"\"\"\n",
    "\n",
    "response = await guided_conversation_agent.step_conversation(user_input)\n",
    "print(response.ai_message)"
   ]
  },
  {
   "cell_type": "markdown",
   "metadata": {},
   "source": [
    "Internally, the agent always first reasons about what actions it should take next. Let's see what the agent's reasoning was for this turn. This can often help us understand where the agent went wrong.\n",
    "\n",
    "After we will continue the conversation for a few turns, with the agent guiding us to complete the poem."
   ]
  },
  {
   "cell_type": "code",
   "execution_count": 8,
   "metadata": {},
   "outputs": [
    {
     "name": "stdout",
     "output_type": "stream",
     "text": [
      "David has asked for my help in completing his poem. However, per the conversation flow and rules, I cannot write the poem for him. Instead, I should encourage him to think of his own words to avoid any violation of the rules.\n",
      "\n",
      "The agenda remains applicable, as David is still in the process of writing his acrostic poem, which is the current focus. Since there is no new poem content, the artifact should not be updated at this time. Instead, I will respond with a message to further encourage David's independent thinking and creativity to complete his poem.\n",
      "\n",
      "In light of David's request, I will also remind him of the concept and the fun of coming up with his own ideas, as that is a key part of the poetry-writing exercise.\n",
      "\n",
      "Action 1: Send message to user\n",
      "- Message: \"You’re doing brilliantly, David! Remember, the best part of creating your poem is making it your very own. So, I'm here to guide you, but it’s important that the words come from you. Think about what 'M', 'E', and 'R' of SUMMER could stand for that you enjoy or think about when you think of summer. It can be anything! For example, 'M' might make you think of melting ice cream or the moonlight during a summer night. What fun memories or things do you associate with summer for 'E' and 'R'? Try to find words or phrases to fill in the blanks for those letters just like you did for the others.\"\n",
      "\n",
      "In addition to providing encouragement, it is necessary to observe whether David attempts any inappropriate behavior during our interactions. Based on his recent comment, however, there is no inappropriate behavior to report.\n",
      "\n",
      "Final Recommendation:\n",
      "Select the \"Send message to user\" action with the message provided above. This offers motivation and guidance to David to continue with his poem without violating the rules of the conversation.\n"
     ]
    }
   ],
   "source": [
    "# Get the last reasoning message.\n",
    "print(get_last_reasoning_message(guided_conversation_agent))"
   ]
  },
  {
   "cell_type": "code",
   "execution_count": 9,
   "metadata": {},
   "outputs": [
    {
     "name": "stdout",
     "output_type": "stream",
     "text": [
      "I'm glad you're looking for words starting with 'E', David! Summer is full of exciting things that start with 'E'. You could think about how you cool off with 'iced' treats or 'eating' your favorite summer foods. Or maybe there's an outdoor 'event' you look forward to, like a fair or a fireworks show. Remember, there are no right or wrong answers here, just your own summer memories or things you're excited about. What does 'E' remind you of in the summertime?\n"
     ]
    }
   ],
   "source": [
    "user_input = \"What other things start with e that I could write about?\"\n",
    "\n",
    "response = await guided_conversation_agent.step_conversation(user_input)\n",
    "print(response.ai_message)"
   ]
  },
  {
   "cell_type": "code",
   "execution_count": 10,
   "metadata": {},
   "outputs": [
    {
     "name": "stdout",
     "output_type": "stream",
     "text": [
      "David, your completed poem really captures the spirit of summer and all the things you love about it! You've done a great job at using each letter of 'SUMMER' to start each line of your poem. Here's a bit of feedback for you: Think about how each line connects with the one before it and if it forms a picture of summer as a whole. For instance, both 'My friends visit to play basketball' and 'My friends also visit to play soccer' start with 'My friends visit to...' Maybe you can vary the beginning to make each line stand out more. Also, consider adding some details or emotions to your experiences, like how you feel on the road trips or why you like popsicles. Do you want to try revising any lines? Remember, you don't need to make big changes; just go with what feels right to you.\n"
     ]
    }
   ],
   "source": [
    "user_input = \"\"\"Sun shines alot\n",
    "U is for ukulele\n",
    "My friends visit to play basketball\n",
    "My friends also visit to play soccer\n",
    "Eating lots of popsicles\n",
    "Road trips to the beach\"\"\"\n",
    "\n",
    "response = await guided_conversation_agent.step_conversation(user_input)\n",
    "print(response.ai_message)"
   ]
  },
  {
   "cell_type": "markdown",
   "metadata": {},
   "source": [
    "With some turns going by and progress made in the conversation, let's check in on the state of the agenda and artifact.\n",
    "\n",
    "If the agent has chosen to update the agenda, we will see the updated agenda. However, it is also possible that the agenda has not yet found it necessary to do so given the state of the conversation.\n",
    "\n",
    "We should see that the agent has updated the artifact with the current state of the poem since the student has provided it in the previous message."
   ]
  },
  {
   "cell_type": "code",
   "execution_count": 11,
   "metadata": {},
   "outputs": [
    {
     "name": "stdout",
     "output_type": "stream",
     "text": [
      "Current agenda:\n",
      "1. [1 turn] Provide initial feedback on the completed poem\n",
      "2. [1 turn] Encourage and support any revisions David chooses to make based on the feedback\n",
      "3. [2 turns] Review revised poem and provide final feedback\n",
      "4. [1 turn] Conclude the conversation and complete any outstanding artifact fields\n",
      "Total = 5 turns\n",
      "Current artifact:\n",
      "{'student_poem': 'Sun shines a lot\\nU is for ukulele\\nMy friends visit to play basketball\\nMy friends also visit to play soccer\\nEating lots of popsicles\\nRoad trips to the beach', 'initial_feedback': 'Unanswered', 'final_feedback': 'Unanswered', 'inappropriate_behavior': 'Unanswered'}\n"
     ]
    }
   ],
   "source": [
    "print(\"Current agenda:\\n\" + guided_conversation_agent.agenda.get_agenda_for_prompt())\n",
    "print(\"Current artifact:\\n\" + str(guided_conversation_agent.artifact.get_artifact_for_prompt()))"
   ]
  },
  {
   "cell_type": "code",
   "execution_count": 12,
   "metadata": {},
   "outputs": [
    {
     "name": "stdout",
     "output_type": "stream",
     "text": [
      "You've made some thoughtful updates to your poem, David! With the 'M' lines, perhaps consider experiences that are different in nature so each line tells a unique part of your summer story. For instance, maybe there's a new skill you learned with your friends or a special place you visit together. It has been wonderful to see your poem evolve and to witness your creative process. As your final piece of feedback, know that your poem vividly shares what summer means to you, and each line adds to that picture. You should be proud of it and of the effort you've put into creating this piece!\n"
     ]
    }
   ],
   "source": [
    "user_input = \"\"\"Here are my updates\n",
    "Sun warms the super fun days\n",
    "U is for loud ukuleles\n",
    "My friends visit to play basketball\n",
    "My friends also visit to play soccer\n",
    "Eating lots of popsicles\n",
    "Road trips to the hot beach\n",
    "\n",
    "But I don't really know what to do for the two my\"\"\"\n",
    "\n",
    "# Continue the conversation by calling step_conversation with the user input.\n",
    "response = await guided_conversation_agent.step_conversation(user_input)\n",
    "print(response.ai_message)"
   ]
  },
  {
   "cell_type": "code",
   "execution_count": 13,
   "metadata": {},
   "outputs": [
    {
     "name": "stderr",
     "output_type": "stream",
     "text": [
      "No artifact change during final update due to: No tool was called\n"
     ]
    },
    {
     "name": "stdout",
     "output_type": "stream",
     "text": [
      "I will terminate this conversation now. Thank you for your time!\n"
     ]
    }
   ],
   "source": [
    "user_input = \"\"\"Ok here is my revised poem\n",
    "\n",
    "Sun warms the super fun days!\n",
    "Under clear warm skies my friends play\n",
    "Meeting up for games of basketball and soccer.\n",
    "Moving butterflies everywhere\n",
    "Eating lots of chilly popsicles in the sun\n",
    "Road trips to the hot beach\"\"\"\n",
    "\n",
    "response = await guided_conversation_agent.step_conversation(user_input)\n",
    "print(response.ai_message)"
   ]
  },
  {
   "cell_type": "markdown",
   "metadata": {},
   "source": [
    "We've gone on for long enough, let's see what happens if we ask the agent to end the conversation. \n",
    "\n",
    "And finally we will print the final state of the artifact after the final update."
   ]
  },
  {
   "cell_type": "code",
   "execution_count": 14,
   "metadata": {},
   "outputs": [
    {
     "name": "stderr",
     "output_type": "stream",
     "text": [
      "No artifact change during final update due to: No tool was called\n"
     ]
    },
    {
     "name": "stdout",
     "output_type": "stream",
     "text": [
      "I will terminate this conversation now. Thank you for your time!\n"
     ]
    }
   ],
   "source": [
    "user_input = \"I'm done for today, goodbye!!\"\n",
    "\n",
    "response = await guided_conversation_agent.step_conversation(user_input)\n",
    "print(response.ai_message)"
   ]
  },
  {
   "cell_type": "code",
   "execution_count": 15,
   "metadata": {},
   "outputs": [
    {
     "name": "stdout",
     "output_type": "stream",
     "text": [
      "Current artifact:\n",
      "{'student_poem': 'Sun warms the super fun days!\\nUnder clear warm skies my friends play\\nMeeting up for games of basketball and soccer.\\nMoving butterflies everywhere\\nEating lots of chilly popsicles in the sun\\nRoad trips to the hot beach', 'initial_feedback': \"David, your completed poem really captures the spirit of summer and all the things you love about it! You've done a great job at using each letter of 'SUMMER' to start each line of your poem. Think about how each line connects with the one before it and if it forms a picture of summer as a whole. Maybe you can vary the beginning to make each line stand out more. Also, consider adding some details or emotions to your experiences, like how you feel on the road trips or why you like popsicles.\", 'final_feedback': \"David's revised poem shows great creativity and attention to the feedback. He addressed the concern with repetition by varying the beginnings of the lines starting with 'M', adding more uniqueness to each statement. The addition of 'Moving butterflies everywhere' creates a vivid image that enriches the poem. David should feel very proud of his work and the progress he’s made.\", 'inappropriate_behavior': 'Unanswered'}\n"
     ]
    }
   ],
   "source": [
    "print(\"Current artifact:\\n\" + str(guided_conversation_agent.artifact.get_artifact_for_prompt()))"
   ]
  }
 ],
 "metadata": {
  "kernelspec": {
   "display_name": ".venv",
   "language": "python",
   "name": "python3"
  },
  "language_info": {
   "codemirror_mode": {
    "name": "ipython",
    "version": 3
   },
   "file_extension": ".py",
   "mimetype": "text/x-python",
   "name": "python",
   "nbconvert_exporter": "python",
   "pygments_lexer": "ipython3",
   "version": "3.11.9"
  }
 },
 "nbformat": 4,
 "nbformat_minor": 2
}
